{
 "cells": [
  {
   "cell_type": "markdown",
   "metadata": {},
   "source": [
    "# Let's code a vanilla policy gradient algo"
   ]
  },
  {
   "cell_type": "code",
   "execution_count": 8,
   "metadata": {},
   "outputs": [],
   "source": [
    "# Imports\n",
    "import sys\n",
    "sys.path.append('..')\n",
    "from game import Game\n",
    "\n",
    "import numpy as np\n",
    "import torch\n",
    "import torch.nn as nn\n",
    "import torch.optim as optim\n",
    "\n"
   ]
  },
  {
   "cell_type": "code",
   "execution_count": null,
   "metadata": {},
   "outputs": [],
   "source": []
  },
  {
   "cell_type": "code",
   "execution_count": null,
   "metadata": {},
   "outputs": [],
   "source": [
    "class vpg:\n",
    "    def __init__(self, policy_dim, value_dim):\n",
    "        self.policy = [0] * policy_dim\n",
    "        self.value = [0] * value_dim\n",
    "        self.env = Game()\n",
    "        self.num_rollouts = 1\n",
    "    def fit(self, iters):\n",
    "        for k in range(iters):\n",
    "            trajectories = self.rollout(self.num_rollouts)\n",
    "            rewards = game.rewards(trajectories)\n",
    "            advantages = self.compute_advantages(trajectories, self.value_dim[k])\n",
    "\n",
    "\n",
    "\n",
    "    def rollout(self, num_rollouts) -> dict:\n",
    "        # Initialize lists to store trajectories\n",
    "        trajectories = {\n",
    "            'states': [],\n",
    "            'actions': [], \n",
    "            'rewards': []\n",
    "        }\n",
    "        \n",
    "        # Collect num_rollouts trajectories\n",
    "        for _ in range(num_rollouts):\n",
    "            # Lists for this specific rollout\n",
    "            states, actions, rewards = [], [], []\n",
    "            state = self.env.reset()\n",
    "            \n",
    "            while not self.env.is_terminal():\n",
    "                # Convert state tuple to tensor\n",
    "                state_tensor = torch.tensor(state, dtype=torch.float32)\n",
    "                states.append(state_tensor)\n",
    "                \n",
    "                # Sample action and store\n",
    "                action = self.policy.sample(state_tensor)\n",
    "                actions.append(action)\n",
    "                \n",
    "                # Take action in environment\n",
    "                self.env.make_move(action)\n",
    "                reward = self.env.get_reward()\n",
    "                rewards.append(reward)\n",
    "                \n",
    "                # Update state\n",
    "                state = self.env.copy_state()\n",
    "            \n",
    "            # Convert episode lists to tensors and store\n",
    "            trajectories['states'].append(torch.stack(states))\n",
    "            trajectories['actions'].append(torch.tensor(actions))\n",
    "            trajectories['rewards'].append(torch.tensor(rewards))\n",
    "            \n",
    "        return trajectories"
   ]
  },
  {
   "cell_type": "code",
   "execution_count": null,
   "metadata": {},
   "outputs": [],
   "source": []
  }
 ],
 "metadata": {
  "kernelspec": {
   "display_name": ".venv",
   "language": "python",
   "name": "python3"
  },
  "language_info": {
   "codemirror_mode": {
    "name": "ipython",
    "version": 3
   },
   "file_extension": ".py",
   "mimetype": "text/x-python",
   "name": "python",
   "nbconvert_exporter": "python",
   "pygments_lexer": "ipython3",
   "version": "3.12.4"
  }
 },
 "nbformat": 4,
 "nbformat_minor": 2
}
