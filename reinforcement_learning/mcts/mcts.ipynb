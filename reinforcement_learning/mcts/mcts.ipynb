{
 "cells": [
  {
   "cell_type": "markdown",
   "metadata": {},
   "source": [
    "# Monte Carlo Tree Search Implementation"
   ]
  },
  {
   "cell_type": "code",
   "execution_count": 8,
   "metadata": {},
   "outputs": [],
   "source": [
    "class Game:\n",
    "    def __init__(self, board=0, player=1, winner=None):\n",
    "        self.board = board\n",
    "        self.player = player\n",
    "        self.winner = winner\n",
    "    def get_legal_moves(self):\n",
    "        return [1, 2] if self.player == 1 else [-0.5, -1.5]\n",
    "    \n",
    "    def make_move(self, move):\n",
    "        self.board += move\n",
    "        self.player = -self.player\n",
    "        self.winner = self.check_winner()\n",
    "\n",
    "    def check_winner(self):\n",
    "        if self.board >= 10:\n",
    "            return 1\n",
    "        elif self.board <= -10:\n",
    "            return -1\n",
    "        else:\n",
    "            return 0\n",
    "    \n",
    "    def is_terminal(self):\n",
    "        return self.winner is not None\n",
    "\n",
    "    def get_reward(self):\n",
    "        return self.winner\n",
    "    \n",
    "    def reset(self):\n",
    "        self.board = 0\n",
    "        self.player = 1\n",
    "        self.winner = None\n",
    "\n",
    "    def copy_state(self):\n",
    "        return (self.board, self.player, self.winner)\n",
    "\n",
    "    def render(self):\n",
    "        print(f\"Board: {self.board}, Player: {self.player}, Winner: {self.winner}\")\n",
    "\n",
    "\n"
   ]
  },
  {
   "cell_type": "code",
   "execution_count": 13,
   "metadata": {},
   "outputs": [
    {
     "data": {
      "text/plain": [
       "2"
      ]
     },
     "execution_count": 13,
     "metadata": {},
     "output_type": "execute_result"
    }
   ],
   "source": [
    "import math\n",
    "import random\n",
    "C = math.sqrt(2)\n",
    "class Node:\n",
    "    def __init__(self, parent, move, game_copy):\n",
    "        self.game = game_copy\n",
    "        self.parent = parent\n",
    "        self.move = move\n",
    "        self.children = []\n",
    "        self.untried_moves = self.game.get_legal_moves()\n",
    "        self.visits = 0\n",
    "        self.wins = 0\n",
    "    def get_uct(self):\n",
    "        if self.visits == 0:\n",
    "            return float('inf')\n",
    "        return self.wins / self.visits + C * math.sqrt(math.log(self.parent.visits) / self.visits)\n",
    "\n",
    "\n",
    "    def selection(self):\n",
    "        current = self\n",
    "        while not current.game.is_terminal():\n",
    "            if current.untried_moves:  # If there are untried moves, stop here\n",
    "                return current\n",
    "            if not current.children:   # If no children, stop here\n",
    "                return current\n",
    "            current = current.select_child()\n",
    "        return current\n",
    "\n",
    "        \n",
    "    def select_child(self):\n",
    "        return max(self.children, key=lambda child: child.get_uct())\n",
    "\n",
    "    def expand(self):\n",
    "        move = self.untried_moves.pop()\n",
    "        game_copy = Game(*self.game.copy_state())\n",
    "        game_copy.make_move(move)\n",
    "        child = Node(self, move, game_copy)\n",
    "        self.children.append(child)\n",
    "        return child\n",
    "\n",
    "    def rollout(self):\n",
    "        game_copy = Game(*self.game.copy_state())\n",
    "        while not game_copy.is_terminal():\n",
    "            game_copy.make_move(random.choice(game_copy.get_legal_moves()))\n",
    "        return game_copy.get_reward()\n",
    "    \n",
    "    def backpropagate(self, result):\n",
    "        self.visits += 1\n",
    "        self.wins += result\n",
    "        if self.parent:\n",
    "            self.parent.backpropagate(result * -1)\n",
    "\n",
    "\n",
    "def mcts(game, iterations):\n",
    "    root = Node(None, None, game)\n",
    "    for _ in range(iterations):\n",
    "        node = root.selection()\n",
    "        if node.untried_moves:  # Add this check\n",
    "            node = node.expand()\n",
    "        result = node.rollout()\n",
    "        node.backpropagate(result)\n",
    "\n",
    "    return root.select_child().move\n",
    "\n",
    "game = Game()\n",
    "mcts(game, 100)"
   ]
  }
 ],
 "metadata": {
  "kernelspec": {
   "display_name": "Python 3",
   "language": "python",
   "name": "python3"
  },
  "language_info": {
   "codemirror_mode": {
    "name": "ipython",
    "version": 3
   },
   "file_extension": ".py",
   "mimetype": "text/x-python",
   "name": "python",
   "nbconvert_exporter": "python",
   "pygments_lexer": "ipython3",
   "version": "3.12.4"
  }
 },
 "nbformat": 4,
 "nbformat_minor": 2
}
