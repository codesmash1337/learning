{
 "cells": [
  {
   "cell_type": "code",
   "execution_count": null,
   "metadata": {},
   "outputs": [],
   "source": [
    "import numpy as np"
   ]
  },
  {
   "cell_type": "code",
   "execution_count": null,
   "metadata": {},
   "outputs": [],
   "source": [
    "# Sample user-movie rating matrix\n",
    "ratings = {\n",
    "    'User1': {'Movie1': 5, 'Movie2': 3, 'Movie3': 4, 'Movie4': None, 'Movie5': 1},\n",
    "    'User2': {'Movie1': 3, 'Movie2': 1, 'Movie3': 2, 'Movie4': 3, 'Movie5': 3},\n",
    "    'User3': {'Movie1': 4, 'Movie2': None, 'Movie3': 4, 'Movie4': 5, 'Movie5': 2},\n",
    "    'User4': {'Movie1': 3, 'Movie2': 3, 'Movie3': 1, 'Movie4': 5, 'Movie5': 4},\n",
    "    'User5': {'Movie1': 1, 'Movie2': 5, 'Movie3': 5, 'Movie4': 2, 'Movie5': 1}\n",
    "}\n",
    "\n",
    "ratings_matrix = np.array([list(user.values()) for user in ratings.values()])"
   ]
  },
  {
   "cell_type": "code",
   "execution_count": null,
   "metadata": {},
   "outputs": [],
   "source": [
    "\n",
    "def cosine_similarity(user1, user2):\n",
    "    return np.dot(user1, user2) / (np.linalg.norm(user1) * np.linalg.norm(user2))\n",
    "\n",
    "def pearson_correlation(user1, user2):\n",
    "    mean1 = np.mean(user1)\n",
    "    mean2 = np.mean(user2)\n",
    "    user1_centered = user1 - mean1\n",
    "    user2_centered = user2 - mean2\n",
    "    return np.dot(user1_centered, user2_centered) / (np.linalg.norm(user1_centered) * np.linalg.norm(user2_centered))\n",
    "\n",
    "def euclidean_distance(user1, user2):\n",
    "    return np.linalg.norm(user1 - user2)\n",
    "\n"
   ]
  },
  {
   "cell_type": "code",
   "execution_count": null,
   "metadata": {},
   "outputs": [],
   "source": [
    "# column based similarity\n",
    "# Just transpose the ratings matrix and then calculate the cosine similarity\n",
    "\n",
    "\n"
   ]
  }
 ],
 "metadata": {
  "language_info": {
   "name": "python"
  }
 },
 "nbformat": 4,
 "nbformat_minor": 2
}
