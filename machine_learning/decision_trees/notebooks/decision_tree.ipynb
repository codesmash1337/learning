{
 "cells": [
  {
   "cell_type": "code",
   "execution_count": 1,
   "metadata": {},
   "outputs": [],
   "source": [
    "# The intuition behind decision trees is based on human decision making. At each step, we ask ourselves a question to help narrow down the decision.\n",
    "# We do the same in decision trees in a mathematical manner."
   ]
  },
  {
   "cell_type": "code",
   "execution_count": 1,
   "metadata": {},
   "outputs": [],
   "source": [
    "import numpy as np\n",
    "import pandas as pd\n",
    "# We have a fundamental question given a feature set x and outcome y: \"What is the best way to split the data?\"\n",
    "\n",
    "\n",
    "def calculate_entropy(values):\n",
    "    if len(values) == 0:\n",
    "        return 0\n",
    "    counts = values.value_counts()\n",
    "    entropy = 0\n",
    "    for count in counts:    \n",
    "        p = count / len(values)\n",
    "        # Avoid log(0) errors\n",
    "        if p > 0:\n",
    "            entropy += -p * np.log2(p)\n",
    "    return entropy\n",
    "\n",
    "\n",
    "def split_and_calculate_entropy(x, y, feature_name):\n",
    "    feature = x[feature_name]\n",
    "    feature_values = feature.unique()\n",
    "    total_samples = len(y)\n",
    "    weighted_entropy = 0\n",
    "\n",
    "    for value in feature_values:\n",
    "        subset_indices = feature == value\n",
    "        subset_output = y[subset_indices]\n",
    "        subset_size = len(subset_output)\n",
    "        # Weight entropy by subset size\n",
    "        weight = subset_size / total_samples\n",
    "        weighted_entropy += weight * calculate_entropy(subset_output)\n",
    "    return weighted_entropy\n",
    "\n",
    "\n",
    "def split_data(x, y, min_gain=0.01):\n",
    "    initial_entropy = calculate_entropy(y)\n",
    "    information_gains = {}\n",
    "    best_feature = None\n",
    "    max_gain = 0\n",
    "    \n",
    "    for feature in x.columns:\n",
    "        # Skip features with too many unique values relative to dataset size\n",
    "        if len(x[feature].unique()) > len(x) / 2:\n",
    "            continue\n",
    "            \n",
    "        gain = initial_entropy - split_and_calculate_entropy(x, y, feature)\n",
    "        if gain > min_gain:\n",
    "            information_gains[feature] = gain\n",
    "            if gain > max_gain:\n",
    "                max_gain = gain\n",
    "                best_feature = feature\n",
    "                \n",
    "    return information_gains, best_feature\n",
    "\n",
    "\n"
   ]
  },
  {
   "cell_type": "code",
   "execution_count": 2,
   "metadata": {},
   "outputs": [
    {
     "name": "stdout",
     "output_type": "stream",
     "text": [
      "{'gender': np.float64(1.0), 'class': np.float64(-1.0)}\n"
     ]
    }
   ],
   "source": [
    "from pandas import DataFrame\n",
    "\n",
    "x = {\"gender\": [\"male\", \"female\", \"male\", \"female\"],\n",
    "               \"class\": [\"A\", \"A\", \"B\", \"B\"]}\n",
    "y = {\"death\": [True, False, True, False]}\n",
    "x_df = DataFrame(x)\n",
    "y_df = DataFrame(y)\n",
    "print(split_data(x_df, y_df))\n",
    "\n",
    "\n"
   ]
  },
  {
   "cell_type": "markdown",
   "metadata": {},
   "source": [
    "# CART - Classification and Regression Trees"
   ]
  },
  {
   "cell_type": "code",
   "execution_count": null,
   "metadata": {},
   "outputs": [],
   "source": [
    "\n",
    "\n",
    "class DecisionTree:\n",
    "    def __init__(self, max_samples, min_samples_split):\n",
    "        self.max_samples = max_samples\n",
    "        self.min_samples_split = min_samples_split\n",
    "        self.tree = None\n",
    "    def _gini(self, y):\n",
    "        counts = y.value_counts()\n",
    "\n",
    "        \n",
    "\n",
    "        \n"
   ]
  },
  {
   "cell_type": "code",
   "execution_count": null,
   "metadata": {},
   "outputs": [],
   "source": []
  }
 ],
 "metadata": {
  "kernelspec": {
   "display_name": "Python 3",
   "language": "python",
   "name": "python3"
  },
  "language_info": {
   "codemirror_mode": {
    "name": "ipython",
    "version": 3
   },
   "file_extension": ".py",
   "mimetype": "text/x-python",
   "name": "python",
   "nbconvert_exporter": "python",
   "pygments_lexer": "ipython3",
   "version": "3.12.4"
  }
 },
 "nbformat": 4,
 "nbformat_minor": 2
}
