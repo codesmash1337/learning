{
 "cells": [
  {
   "cell_type": "code",
   "execution_count": null,
   "metadata": {},
   "outputs": [],
   "source": [
    "# Sample user-movie rating matrix\n",
    "ratings = {\n",
    "    'User1': {'Movie1': 5, 'Movie2': 3, 'Movie3': 4, 'Movie4': None, 'Movie5': 1},\n",
    "    'User2': {'Movie1': 3, 'Movie2': 1, 'Movie3': 2, 'Movie4': 3, 'Movie5': 3},\n",
    "    'User3': {'Movie1': 4, 'Movie2': None, 'Movie3': 4, 'Movie4': 5, 'Movie5': 2},\n",
    "    'User4': {'Movie1': 3, 'Movie2': 3, 'Movie3': 1, 'Movie4': 5, 'Movie5': 4},\n",
    "    'User5': {'Movie1': 1, 'Movie2': 5, 'Movie3': 5, 'Movie4': 2, 'Movie5': 1}\n",
    "}"
   ]
  },
  {
   "cell_type": "code",
   "execution_count": null,
   "metadata": {},
   "outputs": [],
   "source": []
  }
 ],
 "metadata": {
  "language_info": {
   "name": "python"
  }
 },
 "nbformat": 4,
 "nbformat_minor": 2
}
