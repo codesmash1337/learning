{
 "cells": [
  {
   "cell_type": "code",
   "execution_count": null,
   "metadata": {},
   "outputs": [],
   "source": [
    "import collections\n",
    "import hashlib\n",
    "\n",
    "# Design a system that allows you to store and retrieve data from a distributed system.\n",
    "\n",
    "class ConsistentHashing:\n",
    "    def __init__(self, num_nodes, replication_factor):\n",
    "        self.num_nodes = num_nodes # Number of physical nodes\n",
    "        self.replication_factor = replication_factor # Number of virtual nodes per node\n",
    "        self.ring = collections.OrderedDict() # List of hash values\n",
    "        self.hash_function = hashlib.md5 # Hash function to use\n",
    "\n",
    "    def _hash(self, key):\n",
    "        return int(self.hash_function(key).hexdigest(), 16)\n",
    "    \n",
    "    def add_node(self, node):\n",
    "        for i in range(self.replication_factor):\n",
    "            hash_value = self._hash(f\"{node}-{i}\")\n",
    "            # \n",
    "            self.ring.append(hash_value)\n",
    "        self.ring.sort()\n",
    "\n",
    "    def remove_node(self, node):\n",
    "        for i in range(self.replication_factor):\n",
    "            hash_value = self._hash(f\"{node}-{i}\")\n",
    "            self.ring.remove(hash_value)    \n",
    "\n"
   ]
  }
 ],
 "metadata": {
  "language_info": {
   "name": "python"
  }
 },
 "nbformat": 4,
 "nbformat_minor": 2
}
